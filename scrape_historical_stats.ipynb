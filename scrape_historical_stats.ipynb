{
 "cells": [
  {
   "cell_type": "markdown",
   "id": "036a7c8e-e45e-420f-8342-faaadae93294",
   "metadata": {},
   "source": [
    "Install required packages"
   ]
  },
  {
   "cell_type": "code",
   "execution_count": 2,
   "id": "51bf6584-b1cd-44dd-935b-cc339c343538",
   "metadata": {},
   "outputs": [],
   "source": [
    "import subprocess\n",
    "import sys\n",
    "import importlib\n",
    "\n",
    "def install_package(package_name):    \n",
    "    if package_name in sys.modules:\n",
    "        return\n",
    "    else:\n",
    "        subprocess.check_call([sys.executable, \"-m\", \"pip\", \"install\", package_name])\n",
    "\n",
    "install_package(\"bs4\")\n",
    "install_package(\"pandas\")\n",
    "install_package(\"requests\")\n",
    "install_package(\"selenium\")\n",
    "install_package(\"webdriver_manager\")\n",
    "install_package(\"lxml\")\n",
    "install_package(\"html5lib\")"
   ]
  },
  {
   "cell_type": "markdown",
   "id": "642e36ad-26f0-4850-86a8-992436abf67d",
   "metadata": {},
   "source": [
    "Imports"
   ]
  },
  {
   "cell_type": "code",
   "execution_count": 3,
   "id": "9b647379-9183-42c2-a6c0-0ea3ddddc815",
   "metadata": {},
   "outputs": [],
   "source": [
    "from sys import argv\n",
    "import requests\n",
    "import pandas as pd\n",
    "from bs4 import BeautifulSoup\n",
    "import time\n",
    "import re\n",
    "import random\n",
    "\n",
    "from selenium import webdriver\n",
    "from selenium.webdriver.chrome.service import Service\n",
    "from selenium.webdriver.common.keys import Keys\n",
    "from selenium.webdriver.common.by import By\n",
    "from selenium.webdriver.support.ui import Select\n",
    "from selenium.webdriver.support.ui import WebDriverWait\n",
    "from selenium.webdriver.support import expected_conditions as EC\n",
    "from selenium.webdriver.common.action_chains import ActionChains\n",
    "from webdriver_manager.chrome import ChromeDriverManager"
   ]
  },
  {
   "cell_type": "markdown",
   "id": "8a84155b-7214-49b0-ac6e-8bed8f999b88",
   "metadata": {},
   "source": [
    "Create Chrome WebDriver"
   ]
  },
  {
   "cell_type": "code",
   "execution_count": 58,
   "id": "1a8fcecb-5e8b-468c-8946-170d19f7e5e0",
   "metadata": {},
   "outputs": [
    {
     "name": "stderr",
     "output_type": "stream",
     "text": [
      "\n",
      "\n",
      "====== WebDriver manager ======\n",
      "Current google-chrome version is 97.0.4692\n",
      "Get LATEST chromedriver version for 97.0.4692 google-chrome\n",
      "Trying to download new driver from https://chromedriver.storage.googleapis.com/97.0.4692.71/chromedriver_win32.zip\n",
      "Driver has been saved in cache [C:\\Users\\lbt12\\.wdm\\drivers\\chromedriver\\win32\\97.0.4692.71]\n"
     ]
    }
   ],
   "source": [
    "service = Service(ChromeDriverManager().install())\n",
    "\n",
    "options = webdriver.ChromeOptions()\n",
    "options.add_argument(\"start-maximized\")\n",
    "options.add_argument('--disable-blink-features=AutomationControlled')\n",
    "options.add_experimental_option(\"excludeSwitches\", [\"enable-automation\"])\n",
    "options.add_experimental_option('useAutomationExtension', False)\n",
    "options.add_argument('--disable-features=UserAgentClientHint')\n",
    "options.add_argument(\"window-size=1366,768\")\n",
    "options.add_argument(\"user-agent=Mozilla/5.0 (Windows NT 10.0; Win64; x64) AppleWebKit/537.36 (KHTML, like Gecko) Chrome/96.0.4664.110 Safari/537.36\")\n",
    "\n",
    "driver = webdriver.Chrome(service=service, options=options)\n",
    "driver.execute_script(\"Object.defineProperty(navigator, 'webdriver', {get: () => undefined})\")\n",
    "\n",
    "time.sleep(5)"
   ]
  },
  {
   "cell_type": "markdown",
   "id": "80220c5f-1368-4e69-b582-025c78e0c7a0",
   "metadata": {},
   "source": [
    "Scrape Historical Stats from Pro Football Reference"
   ]
  },
  {
   "cell_type": "code",
   "execution_count": 80,
   "id": "9505dd8b-03d5-4b79-bb6c-850d8468352a",
   "metadata": {},
   "outputs": [
    {
     "name": "stdout",
     "output_type": "stream",
     "text": [
      "Reading year 2021, week 1...\n",
      "\tReading game 1 / 16...\n",
      "\tReading game 2 / 16...\n",
      "\tReading game 3 / 16...\n",
      "\tReading game 4 / 16...\n",
      "\tReading game 5 / 16...\n",
      "\tReading game 6 / 16...\n",
      "\tReading game 7 / 16...\n",
      "\tReading game 8 / 16...\n",
      "\tReading game 9 / 16...\n",
      "\tReading game 10 / 16...\n",
      "\tReading game 11 / 16...\n",
      "\tReading game 12 / 16...\n",
      "\tReading game 13 / 16...\n",
      "\tReading game 14 / 16...\n",
      "\tReading game 15 / 16...\n",
      "\tReading game 16 / 16...\n",
      "Year 2021, week 1 saved to historical_2021_1_pro-football-reference.csv\n"
     ]
    }
   ],
   "source": [
    "import pro_football_reference\n",
    "importlib.reload(pro_football_reference)\n",
    "\n",
    "pro_football_reference.scrape(year=2021, week=1, webdriver=driver)"
   ]
  }
 ],
 "metadata": {
  "kernelspec": {
   "display_name": "Python 3 (ipykernel)",
   "language": "python",
   "name": "python3"
  },
  "language_info": {
   "codemirror_mode": {
    "name": "ipython",
    "version": 3
   },
   "file_extension": ".py",
   "mimetype": "text/x-python",
   "name": "python",
   "nbconvert_exporter": "python",
   "pygments_lexer": "ipython3",
   "version": "3.10.2"
  }
 },
 "nbformat": 4,
 "nbformat_minor": 5
}
