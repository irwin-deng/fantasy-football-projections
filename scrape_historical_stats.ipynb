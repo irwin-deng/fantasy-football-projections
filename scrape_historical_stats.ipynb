{
 "cells": [
  {
   "cell_type": "markdown",
   "id": "036a7c8e-e45e-420f-8342-faaadae93294",
   "metadata": {},
   "source": [
    "Install required packages"
   ]
  },
  {
   "cell_type": "code",
   "execution_count": 1,
   "id": "51bf6584-b1cd-44dd-935b-cc339c343538",
   "metadata": {},
   "outputs": [],
   "source": [
    "import subprocess\n",
    "import sys\n",
    "import importlib\n",
    "\n",
    "def install_package(package_name):    \n",
    "    if package_name in sys.modules:\n",
    "        return\n",
    "    else:\n",
    "        subprocess.check_call([sys.executable, \"-m\", \"pip\", \"install\", package_name])\n",
    "\n",
    "install_package(\"bs4\")\n",
    "install_package(\"pandas\")\n",
    "install_package(\"requests\")\n",
    "install_package(\"selenium\")\n",
    "install_package(\"webdriver_manager\")\n",
    "install_package(\"lxml\")\n",
    "install_package(\"html5lib\")"
   ]
  },
  {
   "cell_type": "markdown",
   "id": "642e36ad-26f0-4850-86a8-992436abf67d",
   "metadata": {},
   "source": [
    "Imports"
   ]
  },
  {
   "cell_type": "code",
   "execution_count": 2,
   "id": "9b647379-9183-42c2-a6c0-0ea3ddddc815",
   "metadata": {},
   "outputs": [],
   "source": [
    "from sys import argv\n",
    "import requests\n",
    "import pandas as pd\n",
    "from bs4 import BeautifulSoup\n",
    "import time\n",
    "import re\n",
    "import random\n",
    "\n",
    "from selenium import webdriver\n",
    "from selenium.webdriver.chrome.service import Service\n",
    "from selenium.webdriver.common.keys import Keys\n",
    "from selenium.webdriver.common.by import By\n",
    "from selenium.webdriver.support.ui import Select\n",
    "from selenium.webdriver.support.ui import WebDriverWait\n",
    "from selenium.webdriver.support import expected_conditions as EC\n",
    "from selenium.webdriver.common.action_chains import ActionChains\n",
    "from webdriver_manager.chrome import ChromeDriverManager"
   ]
  },
  {
   "cell_type": "markdown",
   "id": "8a84155b-7214-49b0-ac6e-8bed8f999b88",
   "metadata": {},
   "source": [
    "Create Chrome WebDriver"
   ]
  },
  {
   "cell_type": "code",
   "execution_count": 3,
   "id": "1a8fcecb-5e8b-468c-8946-170d19f7e5e0",
   "metadata": {},
   "outputs": [
    {
     "name": "stderr",
     "output_type": "stream",
     "text": [
      "\n",
      "\n",
      "====== WebDriver manager ======\n",
      "Current google-chrome version is 97.0.4692\n",
      "Get LATEST chromedriver version for 97.0.4692 google-chrome\n",
      "Driver [C:\\Users\\lbt12\\.wdm\\drivers\\chromedriver\\win32\\97.0.4692.71\\chromedriver.exe] found in cache\n"
     ]
    }
   ],
   "source": [
    "service = Service(ChromeDriverManager().install())\n",
    "\n",
    "options = webdriver.ChromeOptions()\n",
    "options.add_argument(\"start-maximized\")\n",
    "options.add_argument('--disable-blink-features=AutomationControlled')\n",
    "options.add_experimental_option(\"excludeSwitches\", [\"enable-automation\"])\n",
    "options.add_experimental_option('useAutomationExtension', False)\n",
    "options.add_argument('--disable-features=UserAgentClientHint')\n",
    "options.add_argument(\"window-size=1366,768\")\n",
    "options.add_argument(\"user-agent=Mozilla/5.0 (Windows NT 10.0; Win64; x64) AppleWebKit/537.36 (KHTML, like Gecko) Chrome/96.0.4664.110 Safari/537.36\")\n",
    "\n",
    "driver = webdriver.Chrome(service=service, options=options)\n",
    "driver.execute_script(\"Object.defineProperty(navigator, 'webdriver', {get: () => undefined})\")\n",
    "\n",
    "time.sleep(5)"
   ]
  },
  {
   "cell_type": "markdown",
   "id": "80220c5f-1368-4e69-b582-025c78e0c7a0",
   "metadata": {},
   "source": [
    "Scrape projections from SportsLine"
   ]
  },
  {
   "cell_type": "code",
   "execution_count": 10,
   "id": "9505dd8b-03d5-4b79-bb6c-850d8468352a",
   "metadata": {},
   "outputs": [
    {
     "name": "stdout",
     "output_type": "stream",
     "text": [
      "reading: https://www.pro-football-reference.com/years/2021/week_1.htm\n"
     ]
    },
    {
     "ename": "KeyboardInterrupt",
     "evalue": "",
     "output_type": "error",
     "traceback": [
      "\u001b[1;31m---------------------------------------------------------------------------\u001b[0m",
      "\u001b[1;31mKeyboardInterrupt\u001b[0m                         Traceback (most recent call last)",
      "Input \u001b[1;32mIn [10]\u001b[0m, in \u001b[0;36m<module>\u001b[1;34m\u001b[0m\n\u001b[0;32m      1\u001b[0m \u001b[38;5;28;01mimport\u001b[39;00m \u001b[38;5;21;01mpro_football_reference\u001b[39;00m\n\u001b[0;32m      2\u001b[0m importlib\u001b[38;5;241m.\u001b[39mreload(pro_football_reference)\n\u001b[1;32m----> 4\u001b[0m \u001b[43mpro_football_reference\u001b[49m\u001b[38;5;241;43m.\u001b[39;49m\u001b[43mscrape\u001b[49m\u001b[43m(\u001b[49m\u001b[43myear\u001b[49m\u001b[38;5;241;43m=\u001b[39;49m\u001b[38;5;241;43m2021\u001b[39;49m\u001b[43m,\u001b[49m\u001b[43m \u001b[49m\u001b[43mweek\u001b[49m\u001b[38;5;241;43m=\u001b[39;49m\u001b[38;5;241;43m1\u001b[39;49m\u001b[43m,\u001b[49m\u001b[43m \u001b[49m\u001b[43mwebdriver\u001b[49m\u001b[38;5;241;43m=\u001b[39;49m\u001b[43mdriver\u001b[49m\u001b[43m)\u001b[49m\n",
      "File \u001b[1;32m~\\OneDrive\\GitHub\\fantasy-football-projections\\pro_football_reference.py:32\u001b[0m, in \u001b[0;36mscrape\u001b[1;34m(year, week, webdriver, save_path)\u001b[0m\n\u001b[0;32m     30\u001b[0m webdriver\u001b[38;5;241m.\u001b[39mget(landing_page_url)\n\u001b[0;32m     31\u001b[0m \u001b[38;5;28mprint\u001b[39m(\u001b[38;5;124m\"\u001b[39m\u001b[38;5;124mreading: \u001b[39m\u001b[38;5;132;01m{url}\u001b[39;00m\u001b[38;5;124m\"\u001b[39m\u001b[38;5;241m.\u001b[39mformat(url\u001b[38;5;241m=\u001b[39mlanding_page_url))\n\u001b[1;32m---> 32\u001b[0m \u001b[43mtime\u001b[49m\u001b[38;5;241;43m.\u001b[39;49m\u001b[43msleep\u001b[49m\u001b[43m(\u001b[49m\u001b[38;5;241;43m11\u001b[39;49m\u001b[43m \u001b[49m\u001b[38;5;241;43m+\u001b[39;49m\u001b[43m \u001b[49m\u001b[43mrandom\u001b[49m\u001b[38;5;241;43m.\u001b[39;49m\u001b[43muniform\u001b[49m\u001b[43m(\u001b[49m\u001b[38;5;241;43m0\u001b[39;49m\u001b[43m,\u001b[49m\u001b[43m \u001b[49m\u001b[38;5;241;43m5\u001b[39;49m\u001b[43m)\u001b[49m\u001b[43m)\u001b[49m\n\u001b[0;32m     33\u001b[0m html \u001b[38;5;241m=\u001b[39m webdriver\u001b[38;5;241m.\u001b[39mpage_source\n\u001b[0;32m     34\u001b[0m soup \u001b[38;5;241m=\u001b[39m BeautifulSoup(html, \u001b[38;5;124m'\u001b[39m\u001b[38;5;124mhtml.parser\u001b[39m\u001b[38;5;124m'\u001b[39m)\n",
      "\u001b[1;31mKeyboardInterrupt\u001b[0m: "
     ]
    }
   ],
   "source": [
    "import pro_football_reference\n",
    "importlib.reload(pro_football_reference)\n",
    "\n",
    "pro_football_reference.scrape(year=2021, week=1, webdriver=driver)"
   ]
  },
  {
   "cell_type": "code",
   "execution_count": 20,
   "id": "1451afb0-fa82-403e-b564-43427f6b5578",
   "metadata": {},
   "outputs": [
    {
     "name": "stdout",
     "output_type": "stream",
     "text": [
      "TAM    1\n",
      "DAL    2\n",
      "Name: Def Int, dtype: object\n"
     ]
    }
   ],
   "source": [
    "import pro_football_reference\n",
    "importlib.reload(pro_football_reference)\n",
    "\n",
    "pro_football_reference.scrape(year=2021, week=1, webdriver=driver)"
   ]
  }
 ],
 "metadata": {
  "kernelspec": {
   "display_name": "Python 3 (ipykernel)",
   "language": "python",
   "name": "python3"
  },
  "language_info": {
   "codemirror_mode": {
    "name": "ipython",
    "version": 3
   },
   "file_extension": ".py",
   "mimetype": "text/x-python",
   "name": "python",
   "nbconvert_exporter": "python",
   "pygments_lexer": "ipython3",
   "version": "3.10.2"
  }
 },
 "nbformat": 4,
 "nbformat_minor": 5
}
