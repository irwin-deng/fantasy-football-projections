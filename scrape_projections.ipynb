{
 "cells": [
  {
   "cell_type": "markdown",
   "id": "5c9384bd-81b3-49dd-97e2-761ebb4748c5",
   "metadata": {},
   "source": [
    "Settings (used for naming the exported .csv file)"
   ]
  },
  {
   "cell_type": "code",
   "execution_count": 1,
   "id": "7cf828ca-9759-4e47-8225-903fce7ef853",
   "metadata": {},
   "outputs": [],
   "source": [
    "CURRENT_WEEK = 1\n",
    "CURRENT_YEAR = 2021"
   ]
  },
  {
   "cell_type": "markdown",
   "id": "8d88f935-8c57-48fc-8d91-e2265c514d99",
   "metadata": {},
   "source": [
    "Install required packages"
   ]
  },
  {
   "cell_type": "code",
   "execution_count": 1,
   "id": "f2e7e077-1a15-40ef-a089-358ec6afc52b",
   "metadata": {},
   "outputs": [],
   "source": [
    "import subprocess\n",
    "import sys\n",
    "import importlib\n",
    "\n",
    "def install_package(package_name):    \n",
    "    if package_name in sys.modules:\n",
    "        return\n",
    "    else:\n",
    "        subprocess.check_call([sys.executable, \"-m\", \"pip\", \"install\", package_name])\n",
    "\n",
    "install_package(\"bs4\")\n",
    "install_package(\"pandas\")\n",
    "install_package(\"requests\")\n",
    "install_package(\"selenium\")\n",
    "install_package(\"webdriver_manager\")\n",
    "install_package(\"lxml\")\n",
    "install_package(\"html5lib\")\n",
    "install_package(\"pause\")"
   ]
  },
  {
   "cell_type": "markdown",
   "id": "92f740f7-b97b-423d-bf6d-d83daefe9421",
   "metadata": {},
   "source": [
    "Imports"
   ]
  },
  {
   "cell_type": "code",
   "execution_count": 2,
   "id": "c1585369-1948-43df-af09-5e76a78aea26",
   "metadata": {},
   "outputs": [],
   "source": [
    "from sys import argv\n",
    "import requests\n",
    "import pandas as pd\n",
    "from bs4 import BeautifulSoup\n",
    "import time\n",
    "import re\n",
    "import random\n",
    "\n",
    "from selenium import webdriver\n",
    "from selenium.webdriver.chrome.service import Service\n",
    "from selenium.webdriver.common.keys import Keys\n",
    "from selenium.webdriver.common.by import By\n",
    "from selenium.webdriver.support.ui import Select\n",
    "from selenium.webdriver.support.ui import WebDriverWait\n",
    "from selenium.webdriver.support import expected_conditions as EC\n",
    "from selenium.webdriver.common.action_chains import ActionChains\n",
    "from webdriver_manager.chrome import ChromeDriverManager"
   ]
  },
  {
   "cell_type": "markdown",
   "id": "d130738c-1dc0-4a01-a71a-64f178d39aa7",
   "metadata": {},
   "source": [
    "Create Chrome WebDriver"
   ]
  },
  {
   "cell_type": "code",
   "execution_count": 3,
   "id": "63fc010d-3317-40c4-9427-b4e09041070d",
   "metadata": {},
   "outputs": [
    {
     "name": "stderr",
     "output_type": "stream",
     "text": [
      "\n",
      "\n",
      "====== WebDriver manager ======\n",
      "Current google-chrome version is 97.0.4692\n",
      "Get LATEST chromedriver version for 97.0.4692 google-chrome\n",
      "Driver [C:\\Users\\lbt12\\.wdm\\drivers\\chromedriver\\win32\\97.0.4692.71\\chromedriver.exe] found in cache\n"
     ]
    }
   ],
   "source": [
    "service = Service(ChromeDriverManager().install())\n",
    "\n",
    "options = webdriver.ChromeOptions()\n",
    "options.add_argument(\"start-maximized\")\n",
    "options.add_argument('--disable-blink-features=AutomationControlled')\n",
    "options.add_experimental_option(\"excludeSwitches\", [\"enable-automation\"])\n",
    "options.add_experimental_option('useAutomationExtension', False)\n",
    "options.add_argument('--disable-features=UserAgentClientHint')\n",
    "options.add_argument(\"window-size=1366,768\")\n",
    "options.add_argument(\"user-agent=Mozilla/5.0 (Windows NT 10.0; Win64; x64) AppleWebKit/537.36 (KHTML, like Gecko) Chrome/96.0.4664.110 Safari/537.36\")\n",
    "\n",
    "driver = webdriver.Chrome(service=service, options=options)\n",
    "driver.execute_script(\"Object.defineProperty(navigator, 'webdriver', {get: () => undefined})\")\n",
    "\n",
    "time.sleep(5)"
   ]
  },
  {
   "cell_type": "markdown",
   "id": "d1df14f5-94a7-4a7a-94a2-4c238205f0ec",
   "metadata": {},
   "source": [
    "Scrape projections from SportsLine"
   ]
  },
  {
   "cell_type": "code",
   "execution_count": null,
   "id": "0d48ea57-800e-42f7-801f-06dd35f89383",
   "metadata": {},
   "outputs": [],
   "source": [
    "import sportsline\n",
    "importlib.reload(sportsline)\n",
    "\n",
    "sportsline.scrape(year=CURRENT_YEAR, week=CURRENT_WEEK)"
   ]
  },
  {
   "cell_type": "markdown",
   "id": "e09669a4-6ffb-423f-be5f-0afc62a61648",
   "metadata": {},
   "source": [
    "Scrape projections from FootballGuys"
   ]
  },
  {
   "cell_type": "code",
   "execution_count": null,
   "id": "6e726cdc-19e2-4af5-aa77-df767ba820c2",
   "metadata": {},
   "outputs": [],
   "source": [
    "import football_guys\n",
    "importlib.reload(football_guys)\n",
    "\n",
    "football_guys.scrape(year=CURRENT_YEAR, week=CURRENT_WEEK)"
   ]
  },
  {
   "cell_type": "code",
   "execution_count": null,
   "id": "db08eb90-41b5-464b-9de7-7425bb7c76d8",
   "metadata": {},
   "outputs": [],
   "source": [
    "import nfl\n",
    "importlib.reload(nfl)\n",
    "\n",
    "nfl.scrape(year=CURRENT_YEAR, week=CURRENT_WEEK)"
   ]
  },
  {
   "cell_type": "code",
   "execution_count": 4,
   "id": "5061b8db-600d-429f-9e02-76b0e1da776c",
   "metadata": {},
   "outputs": [
    {
     "name": "stdout",
     "output_type": "stream",
     "text": [
      "Reading year 2013, week 1...\n",
      "\tReading position 1 / 9...\n"
     ]
    },
    {
     "ename": "KeyboardInterrupt",
     "evalue": "",
     "output_type": "error",
     "traceback": [
      "\u001b[1;31m---------------------------------------------------------------------------\u001b[0m",
      "\u001b[1;31mKeyboardInterrupt\u001b[0m                         Traceback (most recent call last)",
      "Input \u001b[1;32mIn [4]\u001b[0m, in \u001b[0;36m<module>\u001b[1;34m\u001b[0m\n\u001b[0;32m      5\u001b[0m \u001b[38;5;28;01mfor\u001b[39;00m week \u001b[38;5;129;01min\u001b[39;00m \u001b[38;5;28mrange\u001b[39m(\u001b[38;5;241m1\u001b[39m, \u001b[38;5;241m19\u001b[39m):\n\u001b[0;32m      6\u001b[0m     \u001b[38;5;28mprint\u001b[39m(\u001b[38;5;124mf\u001b[39m\u001b[38;5;124m\"\u001b[39m\u001b[38;5;124mReading year \u001b[39m\u001b[38;5;132;01m{\u001b[39;00myear\u001b[38;5;132;01m}\u001b[39;00m\u001b[38;5;124m, week \u001b[39m\u001b[38;5;132;01m{\u001b[39;00mweek\u001b[38;5;132;01m}\u001b[39;00m\u001b[38;5;124m...\u001b[39m\u001b[38;5;124m\"\u001b[39m)\n\u001b[1;32m----> 7\u001b[0m     \u001b[43mfantasy_data\u001b[49m\u001b[38;5;241;43m.\u001b[39;49m\u001b[43mscrape\u001b[49m\u001b[43m(\u001b[49m\u001b[43myear\u001b[49m\u001b[38;5;241;43m=\u001b[39;49m\u001b[43myear\u001b[49m\u001b[43m,\u001b[49m\u001b[43m \u001b[49m\u001b[43mweek\u001b[49m\u001b[38;5;241;43m=\u001b[39;49m\u001b[43mweek\u001b[49m\u001b[43m,\u001b[49m\u001b[43m \u001b[49m\u001b[43mplayoffs\u001b[49m\u001b[38;5;241;43m=\u001b[39;49m\u001b[38;5;28;43;01mFalse\u001b[39;49;00m\u001b[43m,\u001b[49m\n\u001b[0;32m      8\u001b[0m \u001b[43m                        \u001b[49m\u001b[43mwebdriver\u001b[49m\u001b[38;5;241;43m=\u001b[39;49m\u001b[43mdriver\u001b[49m\u001b[43m)\u001b[49m\n",
      "File \u001b[1;32mc:\\Users\\lbt12\\OneDrive\\GitHub\\fantasy-football-projections\\fantasy_data.py:45\u001b[0m, in \u001b[0;36mscrape\u001b[1;34m(year, week, webdriver, playoffs, save_path)\u001b[0m\n\u001b[0;32m     42\u001b[0m ordinal_pos_indx \u001b[38;5;241m=\u001b[39m ordinal_pos_indx \u001b[38;5;241m+\u001b[39m \u001b[38;5;241m1\u001b[39m\n\u001b[0;32m     44\u001b[0m \u001b[38;5;28;01mfor\u001b[39;00m team_indx \u001b[38;5;129;01min\u001b[39;00m \u001b[38;5;28mrange\u001b[39m(\u001b[38;5;241m0\u001b[39m, \u001b[38;5;241m32\u001b[39m):\n\u001b[1;32m---> 45\u001b[0m     df \u001b[38;5;241m=\u001b[39m \u001b[43m_get_team_position_df\u001b[49m\u001b[43m(\u001b[49m\u001b[43myear\u001b[49m\u001b[38;5;241;43m=\u001b[39;49m\u001b[43myear\u001b[49m\u001b[43m,\u001b[49m\u001b[43m \u001b[49m\u001b[43mweek\u001b[49m\u001b[38;5;241;43m=\u001b[39;49m\u001b[43mweek\u001b[49m\u001b[43m,\u001b[49m\u001b[43m \u001b[49m\u001b[43mplayoffs\u001b[49m\u001b[38;5;241;43m=\u001b[39;49m\u001b[43mplayoffs\u001b[49m\u001b[43m,\u001b[49m\n\u001b[0;32m     46\u001b[0m \u001b[43m                               \u001b[49m\u001b[43mteam_indx\u001b[49m\u001b[38;5;241;43m=\u001b[39;49m\u001b[43mteam_indx\u001b[49m\u001b[43m,\u001b[49m\u001b[43m \u001b[49m\u001b[43mpos_indx\u001b[49m\u001b[38;5;241;43m=\u001b[39;49m\u001b[43mpos_indx\u001b[49m\u001b[43m,\u001b[49m\n\u001b[0;32m     47\u001b[0m \u001b[43m                               \u001b[49m\u001b[43mwebdriver\u001b[49m\u001b[38;5;241;43m=\u001b[39;49m\u001b[43mwebdriver\u001b[49m\u001b[43m)\u001b[49m\n\u001b[0;32m     48\u001b[0m     dfs\u001b[38;5;241m.\u001b[39mappend(df)\n\u001b[0;32m     49\u001b[0m time\u001b[38;5;241m.\u001b[39msleep(\u001b[38;5;241m10\u001b[39m \u001b[38;5;241m+\u001b[39m random\u001b[38;5;241m.\u001b[39muniform(\u001b[38;5;241m0\u001b[39m, \u001b[38;5;241m5\u001b[39m))\n",
      "File \u001b[1;32mc:\\Users\\lbt12\\OneDrive\\GitHub\\fantasy-football-projections\\fantasy_data.py:147\u001b[0m, in \u001b[0;36m_get_team_position_df\u001b[1;34m(year, week, playoffs, team_indx, pos_indx, webdriver)\u001b[0m\n\u001b[0;32m    144\u001b[0m     NEXT_REQUEST_TIME \u001b[38;5;241m=\u001b[39m current_time \u001b[38;5;241m+\u001b[39m min_delay\n\u001b[0;32m    146\u001b[0m     webdriver\u001b[38;5;241m.\u001b[39mget(url)\n\u001b[1;32m--> 147\u001b[0m     \u001b[43mWebDriverWait\u001b[49m\u001b[43m(\u001b[49m\u001b[43mwebdriver\u001b[49m\u001b[43m,\u001b[49m\u001b[43m \u001b[49m\u001b[43mtimeout\u001b[49m\u001b[38;5;241;43m=\u001b[39;49m\u001b[38;5;241;43m30\u001b[39;49m\u001b[43m)\u001b[49m\u001b[38;5;241;43m.\u001b[39;49m\u001b[43muntil\u001b[49m\u001b[43m(\u001b[49m\n\u001b[0;32m    148\u001b[0m \u001b[43m        \u001b[49m\u001b[43mstaleness_of\u001b[49m\u001b[43m(\u001b[49m\u001b[43mwebdriver\u001b[49m\u001b[38;5;241;43m.\u001b[39;49m\u001b[43mfind_element_by_tag_name\u001b[49m\u001b[43m(\u001b[49m\u001b[38;5;124;43m\"\u001b[39;49m\u001b[38;5;124;43mhtml\u001b[39;49m\u001b[38;5;124;43m\"\u001b[39;49m\u001b[43m)\u001b[49m\u001b[43m)\u001b[49m\n\u001b[0;32m    149\u001b[0m \u001b[43m    \u001b[49m\u001b[43m)\u001b[49m\n\u001b[0;32m    150\u001b[0m     \u001b[38;5;28;01mbreak\u001b[39;00m  \u001b[38;5;66;03m# continue if successful\u001b[39;00m\n\u001b[0;32m    151\u001b[0m \u001b[38;5;28;01mexcept\u001b[39;00m \u001b[38;5;167;01mException\u001b[39;00m:  \u001b[38;5;66;03m# If unsuccessful, wait and try again\u001b[39;00m\n",
      "File \u001b[1;32m~\\AppData\\Local\\Programs\\Python\\Python310\\lib\\site-packages\\selenium\\webdriver\\support\\wait.py:86\u001b[0m, in \u001b[0;36mWebDriverWait.until\u001b[1;34m(self, method, message)\u001b[0m\n\u001b[0;32m     84\u001b[0m     screen \u001b[38;5;241m=\u001b[39m \u001b[38;5;28mgetattr\u001b[39m(exc, \u001b[38;5;124m'\u001b[39m\u001b[38;5;124mscreen\u001b[39m\u001b[38;5;124m'\u001b[39m, \u001b[38;5;28;01mNone\u001b[39;00m)\n\u001b[0;32m     85\u001b[0m     stacktrace \u001b[38;5;241m=\u001b[39m \u001b[38;5;28mgetattr\u001b[39m(exc, \u001b[38;5;124m'\u001b[39m\u001b[38;5;124mstacktrace\u001b[39m\u001b[38;5;124m'\u001b[39m, \u001b[38;5;28;01mNone\u001b[39;00m)\n\u001b[1;32m---> 86\u001b[0m \u001b[43mtime\u001b[49m\u001b[38;5;241;43m.\u001b[39;49m\u001b[43msleep\u001b[49m\u001b[43m(\u001b[49m\u001b[38;5;28;43mself\u001b[39;49m\u001b[38;5;241;43m.\u001b[39;49m\u001b[43m_poll\u001b[49m\u001b[43m)\u001b[49m\n\u001b[0;32m     87\u001b[0m \u001b[38;5;28;01mif\u001b[39;00m time\u001b[38;5;241m.\u001b[39mtime() \u001b[38;5;241m>\u001b[39m end_time:\n\u001b[0;32m     88\u001b[0m     \u001b[38;5;28;01mbreak\u001b[39;00m\n",
      "\u001b[1;31mKeyboardInterrupt\u001b[0m: "
     ]
    }
   ],
   "source": [
    "import fantasy_data\n",
    "importlib.reload(fantasy_data)\n",
    "\n",
    "for year in range(2013, 2016):\n",
    "    for week in range(1, 19):\n",
    "        fantasy_data.scrape(year=year, week=week, playoffs=False,\n",
    "                            webdriver=driver)"
   ]
  }
 ],
 "metadata": {
  "kernelspec": {
   "display_name": "Python 3 (ipykernel)",
   "language": "python",
   "name": "python3"
  },
  "language_info": {
   "codemirror_mode": {
    "name": "ipython",
    "version": 3
   },
   "file_extension": ".py",
   "mimetype": "text/x-python",
   "name": "python",
   "nbconvert_exporter": "python",
   "pygments_lexer": "ipython3",
   "version": "3.10.2"
  }
 },
 "nbformat": 4,
 "nbformat_minor": 5
}
